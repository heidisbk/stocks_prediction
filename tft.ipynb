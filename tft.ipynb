{
 "cells": [
  {
   "cell_type": "code",
   "execution_count": 1,
   "metadata": {},
   "outputs": [],
   "source": [
    "import warnings\n",
    "warnings.filterwarnings(\"ignore\")  # évite trop de logs\n",
    "\n",
    "import os\n",
    "import numpy as np\n",
    "import pandas as pd\n",
    "import matplotlib.pyplot as plt\n",
    "\n",
    "import torch\n",
    "import pytorch_lightning as pl\n",
    "from pytorch_lightning.callbacks import EarlyStopping, LearningRateMonitor\n",
    "from pytorch_lightning.loggers import TensorBoardLogger\n",
    "\n",
    "import pytorch_forecasting\n",
    "from pytorch_forecasting import TimeSeriesDataSet, TemporalFusionTransformer\n",
    "from pytorch_forecasting.metrics import QuantileLoss, MAE, SMAPE\n",
    "from pytorch_forecasting.data import GroupNormalizer"
   ]
  },
  {
   "cell_type": "code",
   "execution_count": 2,
   "metadata": {},
   "outputs": [
    {
     "name": "stdout",
     "output_type": "stream",
     "text": [
      "1.23.5\n",
      "1.13.1+cpu\n",
      "1.9.0\n",
      "0.10.3\n"
     ]
    }
   ],
   "source": [
    "print(np.__version__)\n",
    "print(torch.__version__)\n",
    "print(pl.__version__)\n",
    "print(pytorch_forecasting.__version__)"
   ]
  },
  {
   "cell_type": "code",
   "execution_count": 3,
   "metadata": {},
   "outputs": [
    {
     "name": "stdout",
     "output_type": "stream",
     "text": [
      "Aperçu du DataFrame initial :\n",
      "        PC1       PC2       PC3       PC4        Close\n",
      "0  1.390185 -0.260900 -1.849993  1.735973  5922.209961\n",
      "1  1.307017 -0.567752 -1.842557  1.710208  5925.850098\n",
      "2  1.295842 -0.606282 -0.656399  0.660852  5926.430176\n",
      "3  1.226576 -0.836205 -0.692805  0.657097  5928.819824\n",
      "4  1.412708 -0.154759 -0.661910  0.842038  5919.759766\n",
      "Shape du DataFrame : (3874, 5)\n"
     ]
    }
   ],
   "source": [
    "# Paramètres de lecture\n",
    "ticker = \"^GSPC\"\n",
    "interval = \"2m\"\n",
    "period = \"1mo\"\n",
    "\n",
    "csv_path = f\"./data/{ticker}_{interval}_{period}.csv\"\n",
    "\n",
    "if not os.path.exists(csv_path):\n",
    "    raise FileNotFoundError(f\"Le fichier {csv_path} n'existe pas. Veuillez exécuter notebook1.py d'abord.\")\n",
    "\n",
    "df = pd.read_csv(csv_path)\n",
    "print(\"Aperçu du DataFrame initial :\")\n",
    "print(df.head())\n",
    "print(\"Shape du DataFrame :\", df.shape)"
   ]
  },
  {
   "cell_type": "code",
   "execution_count": 4,
   "metadata": {},
   "outputs": [
    {
     "name": "stdout",
     "output_type": "stream",
     "text": [
      "        PC1       PC2       PC3       PC4        Close  time_idx group_id\n",
      "0  1.390185 -0.260900 -1.849993  1.735973  5922.209961         0     GSPC\n",
      "1  1.307017 -0.567752 -1.842557  1.710208  5925.850098         1     GSPC\n",
      "2  1.295842 -0.606282 -0.656399  0.660852  5926.430176         2     GSPC\n",
      "3  1.226576 -0.836205 -0.692805  0.657097  5928.819824         3     GSPC\n",
      "4  1.412708 -0.154759 -0.661910  0.842038  5919.759766         4     GSPC\n"
     ]
    }
   ],
   "source": [
    "# Création d'un index temporel sous forme d'entiers croissants\n",
    "df[\"time_idx\"] = np.arange(len(df))\n",
    "\n",
    "# Comme nous n'avons qu'une seule série (le S&P 500), on crée un group_id fixe\n",
    "df[\"group_id\"] = \"GSPC\"\n",
    "\n",
    "print(df.head())"
   ]
  },
  {
   "cell_type": "code",
   "execution_count": 5,
   "metadata": {},
   "outputs": [
    {
     "name": "stdout",
     "output_type": "stream",
     "text": [
      "max_training_time_idx = 3098\n"
     ]
    }
   ],
   "source": [
    "# Taille de la fenêtre d'historique qu'on donne en entrée\n",
    "max_encoder_length = 720  # Exemple : 24 points d'historique (24 x 5min = 2h)\n",
    "# Taille de la fenêtre de prédiction\n",
    "max_prediction_length = 24  # Exemple : on prédit 5 pas dans le futur\n",
    "\n",
    "# Création d'une coupure d'entraînement ~80% du dataset\n",
    "training_cutoff = int(0.8 * len(df))  # index dans df\n",
    "max_training_time_idx = df.loc[training_cutoff - 1, \"time_idx\"]\n",
    "\n",
    "print(\"max_training_time_idx =\", max_training_time_idx)"
   ]
  },
  {
   "cell_type": "code",
   "execution_count": 6,
   "metadata": {},
   "outputs": [],
   "source": [
    "training = TimeSeriesDataSet(\n",
    "    df[df[\"time_idx\"] <= max_training_time_idx],  # partie train\n",
    "    time_idx=\"time_idx\",\n",
    "    group_ids=[\"group_id\"],\n",
    "    target=\"Close\",\n",
    "    # Fenêtres\n",
    "    min_encoder_length=max_encoder_length,\n",
    "    max_encoder_length=max_encoder_length,\n",
    "    min_prediction_length=max_prediction_length,\n",
    "    max_prediction_length=max_prediction_length,\n",
    "\n",
    "    # Normalisation de la target, groupée par \"group_id\"\n",
    "    target_normalizer=GroupNormalizer(\n",
    "        groups=[\"group_id\"],\n",
    "        transformation=\"softplus\"  # ou 'relu', 'log' etc.\n",
    "    ),\n",
    "\n",
    "    # Features temporelles\n",
    "    time_varying_known_reals=[\"time_idx\"],  # on connaît time_idx à l'avance\n",
    "    time_varying_unknown_reals=[\"PC1\", \"PC2\", \"PC3\", \"PC4\"],  \n",
    "    # => si vous souhaitez injecter la Close courante comme feature, ajoutez \"Close\" ici.\n",
    "\n",
    "    add_relative_time_idx=True,\n",
    "    add_target_scales=True,\n",
    "    add_encoder_length=True,\n",
    "    allow_missing_timesteps=True,  # si trous potentiels\n",
    "    randomize_length=None\n",
    ")"
   ]
  },
  {
   "cell_type": "code",
   "execution_count": 7,
   "metadata": {},
   "outputs": [
    {
     "name": "stdout",
     "output_type": "stream",
     "text": [
      "Nombre d'échantillons d'entraînement : 2356\n"
     ]
    }
   ],
   "source": [
    "print(\"Nombre d'échantillons d'entraînement :\", len(training))"
   ]
  },
  {
   "cell_type": "code",
   "execution_count": 8,
   "metadata": {},
   "outputs": [],
   "source": [
    "# On crée un deuxième TimeSeriesDataSet \"validation\" à partir du dataset entraîné\n",
    "validation = TimeSeriesDataSet.from_dataset(\n",
    "    training,\n",
    "    df,  # on applique la même config sur l'ensemble du DF\n",
    "    predict=True,\n",
    "    stop_randomization=True\n",
    ")"
   ]
  },
  {
   "cell_type": "code",
   "execution_count": 9,
   "metadata": {},
   "outputs": [
    {
     "name": "stdout",
     "output_type": "stream",
     "text": [
      "Nombre d'échantillons de validation : 1\n"
     ]
    }
   ],
   "source": [
    "print(\"Nombre d'échantillons de validation :\", len(validation))"
   ]
  },
  {
   "cell_type": "code",
   "execution_count": 10,
   "metadata": {},
   "outputs": [
    {
     "name": "stdout",
     "output_type": "stream",
     "text": [
      "Taille train_dataloader : 2356\n",
      "Taille val_dataloader   : 1\n"
     ]
    }
   ],
   "source": [
    "# On crée les DataLoader PyTorch pour l'entraînement et la validation\n",
    "batch_size = 32\n",
    "\n",
    "train_dataloader = training.to_dataloader(\n",
    "    train=True, \n",
    "    batch_size=batch_size, \n",
    "    num_workers=0\n",
    ")\n",
    "val_dataloader = validation.to_dataloader(\n",
    "    train=False, \n",
    "    batch_size=batch_size, \n",
    "    num_workers=0\n",
    ")\n",
    "\n",
    "print(\"Taille train_dataloader :\", len(train_dataloader.dataset))\n",
    "print(\"Taille val_dataloader   :\", len(val_dataloader.dataset))"
   ]
  },
  {
   "cell_type": "markdown",
   "metadata": {},
   "source": [
    "### Modèle TFT"
   ]
  },
  {
   "cell_type": "code",
   "execution_count": 11,
   "metadata": {
    "scrolled": true
   },
   "outputs": [
    {
     "name": "stderr",
     "output_type": "stream",
     "text": [
      "Global seed set to 42\n"
     ]
    },
    {
     "data": {
      "text/plain": [
       "42"
      ]
     },
     "execution_count": 11,
     "metadata": {},
     "output_type": "execute_result"
    }
   ],
   "source": [
    "pl.seed_everything(42)  # pour la reproductibilité"
   ]
  },
  {
   "cell_type": "code",
   "execution_count": 12,
   "metadata": {},
   "outputs": [],
   "source": [
    "# Callbacks\n",
    "early_stop_callback = EarlyStopping(\n",
    "    monitor=\"val_loss\",\n",
    "    patience=10,\n",
    "    mode=\"min\"\n",
    ")\n",
    "lr_logger = LearningRateMonitor(logging_interval='epoch')\n",
    "logger = TensorBoardLogger(save_dir=\"tft_logs\", name=\"tft_experiment\")"
   ]
  },
  {
   "cell_type": "code",
   "execution_count": 13,
   "metadata": {},
   "outputs": [
    {
     "name": "stderr",
     "output_type": "stream",
     "text": [
      "GPU available: False, used: False\n",
      "TPU available: False, using: 0 TPU cores\n",
      "IPU available: False, using: 0 IPUs\n",
      "HPU available: False, using: 0 HPUs\n"
     ]
    }
   ],
   "source": [
    "# Création du Trainer Lightning\n",
    "trainer = pl.Trainer(\n",
    "    max_epochs=30,\n",
    "    accelerator=\"gpu\" if torch.cuda.is_available() else \"cpu\",\n",
    "    callbacks=[early_stop_callback, lr_logger],\n",
    "    logger=logger,\n",
    "    gradient_clip_val=0.1\n",
    ")"
   ]
  },
  {
   "cell_type": "code",
   "execution_count": 14,
   "metadata": {},
   "outputs": [],
   "source": [
    "# Instanciation du modèle TemporalFusionTransformer\n",
    "tft = TemporalFusionTransformer.from_dataset(\n",
    "    training,\n",
    "    learning_rate=1e-3,\n",
    "    hidden_size=16,\n",
    "    attention_head_size=2,\n",
    "    dropout=0.1,\n",
    "    hidden_continuous_size=8,\n",
    "    loss=QuantileLoss(),\n",
    "    optimizer=\"adam\",\n",
    "    reduce_on_plateau_patience=4,\n",
    ")"
   ]
  },
  {
   "cell_type": "code",
   "execution_count": 15,
   "metadata": {},
   "outputs": [
    {
     "name": "stderr",
     "output_type": "stream",
     "text": [
      "\n",
      "   | Name                               | Type                            | Params\n",
      "----------------------------------------------------------------------------------------\n",
      "0  | loss                               | QuantileLoss                    | 0     \n",
      "1  | logging_metrics                    | ModuleList                      | 0     \n",
      "2  | input_embeddings                   | MultiEmbedding                  | 0     \n",
      "3  | prescalers                         | ModuleDict                      | 144   \n",
      "4  | static_variable_selection          | VariableSelectionNetwork        | 1.7 K \n",
      "5  | encoder_variable_selection         | VariableSelectionNetwork        | 3.7 K \n",
      "6  | decoder_variable_selection         | VariableSelectionNetwork        | 1.2 K \n",
      "7  | static_context_variable_selection  | GatedResidualNetwork            | 1.1 K \n",
      "8  | static_context_initial_hidden_lstm | GatedResidualNetwork            | 1.1 K \n",
      "9  | static_context_initial_cell_lstm   | GatedResidualNetwork            | 1.1 K \n",
      "10 | static_context_enrichment          | GatedResidualNetwork            | 1.1 K \n",
      "11 | lstm_encoder                       | LSTM                            | 2.2 K \n",
      "12 | lstm_decoder                       | LSTM                            | 2.2 K \n",
      "13 | post_lstm_gate_encoder             | GatedLinearUnit                 | 544   \n",
      "14 | post_lstm_add_norm_encoder         | AddNorm                         | 32    \n",
      "15 | static_enrichment                  | GatedResidualNetwork            | 1.4 K \n",
      "16 | multihead_attn                     | InterpretableMultiHeadAttention | 808   \n",
      "17 | post_attn_gate_norm                | GateAddNorm                     | 576   \n",
      "18 | pos_wise_ff                        | GatedResidualNetwork            | 1.1 K \n",
      "19 | pre_output_gate_norm               | GateAddNorm                     | 576   \n",
      "20 | output_layer                       | Linear                          | 119   \n",
      "----------------------------------------------------------------------------------------\n",
      "20.5 K    Trainable params\n",
      "0         Non-trainable params\n",
      "20.5 K    Total params\n",
      "0.082     Total estimated model params size (MB)\n"
     ]
    },
    {
     "name": "stdout",
     "output_type": "stream",
     "text": [
      "Epoch 0:  99%|█████████████▊| 73/74 [04:00<00:03,  3.30s/it, loss=16.2, v_num=2, train_loss_step=14.40]\n",
      "Validation: 0it [00:00, ?it/s]\u001b[A\n",
      "Validation:   0%|                                                                | 0/1 [00:00<?, ?it/s]\u001b[A\n",
      "Validation DataLoader 0:   0%|                                                   | 0/1 [00:00<?, ?it/s]\u001b[A\n",
      "Epoch 0: 100%|█| 74/74 [04:00<00:00,  3.25s/it, loss=16.2, v_num=2, train_loss_step=14.40, val_loss=16.\u001b[A\n",
      "Epoch 1:  99%|▉| 73/74 [04:14<00:03,  3.49s/it, loss=8.97, v_num=2, train_loss_step=8.150, val_loss=16.\u001b[A\n",
      "Validation: 0it [00:00, ?it/s]\u001b[A\n",
      "Validation:   0%|                                                                | 0/1 [00:00<?, ?it/s]\u001b[A\n",
      "Validation DataLoader 0:   0%|                                                   | 0/1 [00:00<?, ?it/s]\u001b[A\n",
      "Epoch 1: 100%|█| 74/74 [04:14<00:00,  3.44s/it, loss=8.97, v_num=2, train_loss_step=8.150, val_loss=22.\u001b[A\n",
      "Epoch 2:  99%|▉| 73/74 [04:11<00:03,  3.45s/it, loss=8.21, v_num=2, train_loss_step=8.540, val_loss=22.\u001b[A\n",
      "Validation: 0it [00:00, ?it/s]\u001b[A\n",
      "Validation:   0%|                                                                | 0/1 [00:00<?, ?it/s]\u001b[A\n",
      "Validation DataLoader 0:   0%|                                                   | 0/1 [00:00<?, ?it/s]\u001b[A\n",
      "Epoch 2: 100%|█| 74/74 [04:11<00:00,  3.40s/it, loss=8.21, v_num=2, train_loss_step=8.540, val_loss=22.\u001b[A\n",
      "Epoch 3:  99%|▉| 73/74 [04:04<00:03,  3.34s/it, loss=7.49, v_num=2, train_loss_step=7.050, val_loss=22.\u001b[A\n",
      "Validation: 0it [00:00, ?it/s]\u001b[A\n",
      "Validation:   0%|                                                                | 0/1 [00:00<?, ?it/s]\u001b[A\n",
      "Validation DataLoader 0:   0%|                                                   | 0/1 [00:00<?, ?it/s]\u001b[A\n",
      "Epoch 3: 100%|█| 74/74 [04:04<00:00,  3.30s/it, loss=7.49, v_num=2, train_loss_step=7.050, val_loss=25.\u001b[A\n",
      "Epoch 4:  99%|▉| 73/74 [04:05<00:03,  3.36s/it, loss=6.92, v_num=2, train_loss_step=6.570, val_loss=25.\u001b[A\n",
      "Validation: 0it [00:00, ?it/s]\u001b[A\n",
      "Validation:   0%|                                                                | 0/1 [00:00<?, ?it/s]\u001b[A\n",
      "Validation DataLoader 0:   0%|                                                   | 0/1 [00:00<?, ?it/s]\u001b[A\n",
      "Epoch 4: 100%|█| 74/74 [04:05<00:00,  3.32s/it, loss=6.92, v_num=2, train_loss_step=6.570, val_loss=26.\u001b[A\n",
      "Epoch 5:  99%|▉| 73/74 [03:57<00:03,  3.25s/it, loss=6.42, v_num=2, train_loss_step=5.990, val_loss=26.\u001b[A\n",
      "Validation: 0it [00:00, ?it/s]\u001b[A\n",
      "Validation:   0%|                                                                | 0/1 [00:00<?, ?it/s]\u001b[A\n",
      "Validation DataLoader 0:   0%|                                                   | 0/1 [00:00<?, ?it/s]\u001b[A\n",
      "Epoch 5: 100%|█| 74/74 [03:57<00:00,  3.21s/it, loss=6.42, v_num=2, train_loss_step=5.990, val_loss=24.\u001b[A\n",
      "Epoch 6:  99%|▉| 73/74 [04:00<00:03,  3.29s/it, loss=6.44, v_num=2, train_loss_step=5.140, val_loss=24.\u001b[A\n",
      "Validation: 0it [00:00, ?it/s]\u001b[A\n",
      "Validation:   0%|                                                                | 0/1 [00:00<?, ?it/s]\u001b[A\n",
      "Validation DataLoader 0:   0%|                                                   | 0/1 [00:00<?, ?it/s]\u001b[A\n",
      "Epoch 6: 100%|█| 74/74 [04:00<00:00,  3.25s/it, loss=6.44, v_num=2, train_loss_step=5.140, val_loss=25.\u001b[A\n",
      "Epoch 7:  99%|▉| 73/74 [03:59<00:03,  3.29s/it, loss=5.99, v_num=2, train_loss_step=5.940, val_loss=25.\u001b[A\n",
      "Validation: 0it [00:00, ?it/s]\u001b[A\n",
      "Validation:   0%|                                                                | 0/1 [00:00<?, ?it/s]\u001b[A\n",
      "Validation DataLoader 0:   0%|                                                   | 0/1 [00:00<?, ?it/s]\u001b[A\n",
      "Epoch 7: 100%|█| 74/74 [03:59<00:00,  3.24s/it, loss=5.99, v_num=2, train_loss_step=5.940, val_loss=25.\u001b[A\n",
      "Epoch 8:  99%|▉| 73/74 [03:56<00:03,  3.23s/it, loss=5.97, v_num=2, train_loss_step=6.590, val_loss=25.\u001b[A\n",
      "Validation: 0it [00:00, ?it/s]\u001b[A\n",
      "Validation:   0%|                                                                | 0/1 [00:00<?, ?it/s]\u001b[A\n",
      "Validation DataLoader 0:   0%|                                                   | 0/1 [00:00<?, ?it/s]\u001b[A\n",
      "Epoch 8: 100%|█| 74/74 [03:56<00:00,  3.19s/it, loss=5.97, v_num=2, train_loss_step=6.590, val_loss=23.\u001b[A\n",
      "Epoch 9:  99%|▉| 73/74 [04:11<00:03,  3.45s/it, loss=5.71, v_num=2, train_loss_step=5.270, val_loss=23.\u001b[A\n",
      "Validation: 0it [00:00, ?it/s]\u001b[A\n",
      "Validation:   0%|                                                                | 0/1 [00:00<?, ?it/s]\u001b[A\n",
      "Validation DataLoader 0:   0%|                                                   | 0/1 [00:00<?, ?it/s]\u001b[A\n",
      "Epoch 9: 100%|█| 74/74 [04:11<00:00,  3.40s/it, loss=5.71, v_num=2, train_loss_step=5.270, val_loss=23.\u001b[A\n",
      "Epoch 10:  99%|▉| 73/74 [03:58<00:03,  3.27s/it, loss=5.8, v_num=2, train_loss_step=5.540, val_loss=23.\u001b[A\n",
      "Validation: 0it [00:00, ?it/s]\u001b[A\n",
      "Validation:   0%|                                                                | 0/1 [00:00<?, ?it/s]\u001b[A\n",
      "Validation DataLoader 0:   0%|                                                   | 0/1 [00:00<?, ?it/s]\u001b[A\n",
      "Epoch 10: 100%|█| 74/74 [03:59<00:00,  3.23s/it, loss=5.8, v_num=2, train_loss_step=5.540, val_loss=23.\u001b[A\n",
      "Epoch 10: 100%|█| 74/74 [03:59<00:00,  3.23s/it, loss=5.8, v_num=2, train_loss_step=5.540, val_loss=23.\u001b[A\n"
     ]
    }
   ],
   "source": [
    "trainer.fit(\n",
    "    tft,\n",
    "    train_dataloaders=train_dataloader,\n",
    "    val_dataloaders=val_dataloader\n",
    ")"
   ]
  },
  {
   "cell_type": "code",
   "execution_count": 16,
   "metadata": {},
   "outputs": [
    {
     "name": "stdout",
     "output_type": "stream",
     "text": [
      "batch_y = (tensor([[6081.9102, 6080.7500, 6083.9102, 6084.4702, 6084.1899, 6085.1099,\n",
      "         6086.2002, 6084.9800, 6083.9302, 6081.4800, 6082.7798, 6081.9199,\n",
      "         6071.2100, 6057.8901, 6053.0698, 6047.2798, 6048.4800, 6049.6401,\n",
      "         6059.4399, 6062.9902, 6064.4199, 6073.4600, 6069.3501, 6069.6602]]), None)\n",
      "type(batch_y) = <class 'tuple'>\n"
     ]
    }
   ],
   "source": [
    "batch_x, batch_y = next(iter(val_dataloader))\n",
    "print(\"batch_y =\", batch_y)\n",
    "print(\"type(batch_y) =\", type(batch_y))"
   ]
  },
  {
   "cell_type": "code",
   "execution_count": 17,
   "metadata": {},
   "outputs": [
    {
     "name": "stdout",
     "output_type": "stream",
     "text": [
      "Shape des prédictions : torch.Size([1, 24])\n",
      "Shape des vraies valeurs : torch.Size([1, 24])\n",
      "MAE sur la validation: 28.8569\n",
      "           pred       actual\n",
      "0   6103.723633  6081.910156\n",
      "1   6101.856445  6080.750000\n",
      "2   6101.120605  6083.910156\n",
      "3   6100.919434  6084.470215\n",
      "4   6100.875000  6084.189941\n",
      "5   6100.864746  6085.109863\n",
      "6   6100.856934  6086.200195\n",
      "7   6100.844238  6084.979980\n",
      "8   6100.826172  6083.930176\n",
      "9   6100.803711  6081.479980\n",
      "10  6100.779297  6082.779785\n",
      "11  6100.753418  6081.919922\n",
      "12  6100.726074  6071.209961\n",
      "13  6100.698242  6057.890137\n",
      "14  6100.670410  6053.069824\n",
      "15  6100.642090  6047.279785\n",
      "16  6100.613770  6048.479980\n",
      "17  6100.585449  6049.640137\n",
      "18  6100.557617  6059.439941\n",
      "19  6100.529297  6062.990234\n"
     ]
    }
   ],
   "source": [
    "# Faire les prédictions\n",
    "predictions = tft.predict(val_dataloader)\n",
    "\n",
    "# Extraire les cibles réelles depuis le DataLoader\n",
    "actuals_list = []\n",
    "for batch_x, batch_y in val_dataloader:\n",
    "    # Dans beaucoup de configurations, batch_y est (target, weight) => un tuple\n",
    "    # On prend le premier élément comme cible\n",
    "    batch_target = batch_y[0]  \n",
    "    actuals_list.append(batch_target)\n",
    "\n",
    "actuals = torch.cat(actuals_list, dim=0)\n",
    "\n",
    "print(\"Shape des prédictions :\", predictions.shape)\n",
    "print(\"Shape des vraies valeurs :\", actuals.shape)\n",
    "\n",
    "# Calculer la métrique MAE\n",
    "mae_metric = MAE()\n",
    "\n",
    "# Souvent, predictions est (batch_size, max_prediction_length, 1)\n",
    "# alors que actuals est (batch_size, max_prediction_length)\n",
    "predictions = predictions.squeeze(-1)  # supprime la dernière dimension\n",
    "\n",
    "mae_value = mae_metric(predictions, actuals)\n",
    "print(f\"MAE sur la validation: {mae_value:.4f}\")\n",
    "\n",
    "df_pred = pd.DataFrame({\n",
    "    \"pred\": predictions.detach().cpu().flatten().numpy(),\n",
    "    \"actual\": actuals.detach().cpu().flatten().numpy()\n",
    "})\n",
    "print(df_pred.head(20))"
   ]
  },
  {
   "cell_type": "code",
   "execution_count": 18,
   "metadata": {},
   "outputs": [
    {
     "data": {
      "image/png": "[encoded data removed]",
      "text/plain": [
       "<Figure size 1200x600 with 1 Axes>"
      ]
     },
     "metadata": {},
     "output_type": "display_data"
    }
   ],
   "source": [
    "plt.figure(figsize=(12, 6))\n",
    "plt.plot(df_pred['actual'].values, label='Vraies valeurs (Validation)', color='blue')\n",
    "plt.plot(df_pred['pred'].values, label='Prédictions (Validation)', color='red', linestyle='--')\n",
    "plt.title('Validation : Comparaison Vrai / Prédictions')\n",
    "plt.xlabel('Index dans la série (batch concaténé)')\n",
    "plt.ylabel('Valeur du Close')\n",
    "plt.legend()\n",
    "plt.grid(True)\n",
    "plt.show()"
   ]
  },
  {
   "cell_type": "code",
   "execution_count": null,
   "metadata": {},
   "outputs": [],
   "source": []
  }
 ],
 "metadata": {
  "accelerator": "GPU",
  "colab": {
   "gpuType": "T4",
   "provenance": []
  },
  "kernelspec": {
   "display_name": "Python 3 (ipykernel)",
   "language": "python",
   "name": "python3"
  },
  "language_info": {
   "codemirror_mode": {
    "name": "ipython",
    "version": 3
   },
   "file_extension": ".py",
   "mimetype": "text/x-python",
   "name": "python",
   "nbconvert_exporter": "python",
   "pygments_lexer": "ipython3",
   "version": "3.10.1"
  }
 },
 "nbformat": 4,
 "nbformat_minor": 1
}
